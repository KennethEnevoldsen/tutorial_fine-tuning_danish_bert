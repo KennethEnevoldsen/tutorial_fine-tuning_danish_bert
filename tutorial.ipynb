{
 "cells": [
  {
   "cell_type": "markdown",
   "metadata": {},
   "source": [
    "# Fine-tuning a Danish BERT\n",
    "\n",
    "This tutorial will take you through how to fine-tune a BERT, both for sentence and token classification. \n",
    "\n",
    "Start by installing the requirements by running the following chunk:\n",
    "\n",
    "\n",
    "\n"
   ]
  },
  {
   "cell_type": "code",
   "execution_count": null,
   "metadata": {
    "tags": [
     "outputPrepend"
    ]
   },
   "outputs": [],
   "source": [
    "!pip install -r requirements.txt"
   ]
  },
  {
   "cell_type": "markdown",
   "metadata": {},
   "source": [
    "### Importing packages"
   ]
  },
  {
   "cell_type": "code",
   "execution_count": null,
   "metadata": {},
   "outputs": [],
   "source": [
    "# native packages\n",
    "import os\n",
    "\n",
    "# widely use packages\n",
    "import pandas as pd\n",
    "\n",
    "# other packages\n",
    "from simpletransformers.ner import NERModel\n",
    "from simpletransformers.classification import ClassificationModel\n",
    "\n",
    "from danlp.datasets import DDT\n",
    "import pyconll"
   ]
  },
  {
   "cell_type": "markdown",
   "metadata": {},
   "source": [
    "---\n",
    "\n",
    "## Token Classification\n",
    "Let's start by doing a token classification. Token classification is the act of classifying tokens as is for example used to classify whether a token is an entity and what type of entity it is, e.g. person, organization or location. This is typically called named-entity recognition. Other token classification tasks include part-of-speech tagging as well as others. For this example we will train a BERT for named-entity recognition using the tagged data by DaNLP derived from the Danish dependency Treebank. We will start by loading in the data and examining it."
   ]
  },
  {
   "cell_type": "code",
   "execution_count": null,
   "metadata": {},
   "outputs": [],
   "source": [
    "# Loading the Danish Dependency Tree data\n",
    "ddt = DDT()\n",
    "conllu_format = ddt.load_as_conllu(predefined_splits = True)\n",
    "\n",
    "data = []\n",
    "for n in range(len(conllu_format)):\n",
    "    data.append([(i, token.form, token.misc.get(\"name\").pop()) for i, sent in enumerate(conllu_format[n]) for token in sent]) #Getting the sentence #, Word and Tag."
   ]
  },
  {
   "cell_type": "code",
   "execution_count": null,
   "metadata": {},
   "outputs": [],
   "source": [
    "# this dataset contain a training dataset\n",
    "train = pd.DataFrame(data[0], columns = ['sentence_id', 'words', 'labels']) # note that the names of the columns are important for the model\n",
    "# a development test dataset\n",
    "test = pd.DataFrame(data[1], columns = ['sentence_id', 'words', 'labels'])\n",
    "# and lastly a validation dataset\n",
    "validation = pd.DataFrame(data[2], columns = ['sentence_id', 'words', 'labels'])\n",
    "\n",
    "# examing the first ten rows we see some of the structure of the data\n",
    "train.head(10)"
   ]
  },
  {
   "cell_type": "markdown",
   "metadata": {},
   "source": [
    "Okay so now we are ready to train the model. Beware that this process might take some time to it might be ideal to only use some of the data."
   ]
  },
  {
   "cell_type": "code",
   "execution_count": null,
   "metadata": {},
   "outputs": [],
   "source": [
    "# get list of unique labels\n",
    "unique_labels = list(train['labels'].unique())\n",
    "\n",
    "# we will need to rename the config file from bert_config.json to config.json\n",
    "# os.rename('danish_bert_uncased_v2/bert_config.json', 'danish_bert_uncased_v2/config.json')\n",
    "\n",
    "# preparing the model\n",
    "model = NERModel('bert', model_name = 'Maltehb/danish-bert-botxo', labels=unique_labels, use_cuda=False, args={'overwrite_output_dir': True, 'reprocess_input_data': True})"
   ]
  },
  {
   "cell_type": "code",
   "execution_count": null,
   "metadata": {},
   "outputs": [],
   "source": [
    "# Training the model\n",
    "model.train_model(train)"
   ]
  },
  {
   "cell_type": "markdown",
   "metadata": {},
   "source": [
    "## Sentence Classification\n",
    "Sentence classification is the act of classifying a sentence. This could be classyfying the topic of a sentence or classifying whether a sentence is postive or negative. In this case we will try to predict the score of a trustpilot review based on the text of the review. The dataset used for this is avaliable in the [Github repository](https://github.com/KennethEnevoldsen/tutorial_fine-tuning_danish_bert). \n"
   ]
  },
  {
   "cell_type": "code",
   "execution_count": null,
   "metadata": {},
   "outputs": [],
   "source": [
    "tp = pd.read_csv(\"trustpilot.csv\")\n",
    "tp.columns = ['text', 'labels'] # rename variables - not that the renames variable names are important\n",
    "\n",
    "tp['text'] = tp['text'].astype('str')\n",
    "tp['labels'] = tp['labels'] - 1 # index to zero\n",
    "tp.head(10)"
   ]
  },
  {
   "cell_type": "code",
   "execution_count": null,
   "metadata": {},
   "outputs": [],
   "source": [
    "# number og unique labels\n",
    "n_labels = len(tp['labels'].unique())\n",
    "\n",
    "# initialize the model\n",
    "sent_model = ClassificationModel('bert', 'Maltehb/danish-bert-botxo', num_labels=n_labels, use_cuda=False, args={'reprocess_input_data': True, 'overwrite_output_dir': True})"
   ]
  },
  {
   "cell_type": "code",
   "execution_count": null,
   "metadata": {},
   "outputs": [],
   "source": [
    "# train the model\n",
    "sent_model.train_model(tp)"
   ]
  },
  {
   "cell_type": "markdown",
   "metadata": {},
   "source": [
    "## Conclusion\n",
    "And that is it! You have now fine-tuned two Danish BERT models for token and sentence classification!🥳 \n",
    "\n",
    "To use the model simply use `model.predict()`.\n",
    "\n",
    "This tutorial was made by [L. Hansen](https://github.com/HLasse), [M. Højmark-Bertelsen](https://github.com/MalteHB) and [K. Enevoldsen](https://github.com/KennethEnevoldsen). Feel free to ask any question in the GitHub issues.\n"
   ]
  }
 ],
 "metadata": {
  "file_extension": ".py",
  "kernelspec": {
   "display_name": "Python 3.8.2 64-bit ('berttut')",
   "metadata": {
    "interpreter": {
     "hash": "0af86b652e3336c27973d43408c0c8238220b98dae7150c777c1088dff3d7948"
    }
   },
   "name": "python3"
  },
  "language_info": {
   "codemirror_mode": {
    "name": "ipython",
    "version": 3
   },
   "name": "python",
   "version": "3.8.2-final"
  },
  "mimetype": "text/x-python",
  "name": "python",
  "npconvert_exporter": "python",
  "pygments_lexer": "ipython3",
  "version": 3
 },
 "nbformat": 4,
 "nbformat_minor": 2
}
